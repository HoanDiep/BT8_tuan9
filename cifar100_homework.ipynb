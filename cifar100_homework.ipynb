{
  "nbformat": 4,
  "nbformat_minor": 0,
  "metadata": {
    "colab": {
      "provenance": [],
      "authorship_tag": "ABX9TyMXhBs15tFHYyYGrwLIaX5x",
      "include_colab_link": true
    },
    "kernelspec": {
      "name": "python3",
      "display_name": "Python 3"
    },
    "language_info": {
      "name": "python"
    }
  },
  "cells": [
    {
      "cell_type": "markdown",
      "metadata": {
        "id": "view-in-github",
        "colab_type": "text"
      },
      "source": [
        "<a href=\"https://colab.research.google.com/github/HoanDiep/BT8_tuan9/blob/main/cifar100_homework.ipynb\" target=\"_parent\"><img src=\"https://colab.research.google.com/assets/colab-badge.svg\" alt=\"Open In Colab\"/></a>"
      ]
    },
    {
      "cell_type": "code",
      "execution_count": null,
      "metadata": {
        "colab": {
          "base_uri": "https://localhost:8080/"
        },
        "id": "WalFvmLgpFYd",
        "outputId": "3883684b-9f94-48a0-96db-3e6efcfe4988"
      },
      "outputs": [
        {
          "output_type": "stream",
          "name": "stdout",
          "text": [
            "50000\n"
          ]
        }
      ],
      "source": [
        "from keras.datasets import cifar100\n",
        "from keras.models import Sequential\n",
        "import matplotlib.pyplot as plt\n",
        "\n",
        "(x_trains, y_trains) ,(x_test, y_test) = cifar100.load_data()\n",
        "\n",
        "print(len(x_trains))"
      ]
    },
    {
      "cell_type": "code",
      "source": [
        "x_trains.shape"
      ],
      "metadata": {
        "colab": {
          "base_uri": "https://localhost:8080/"
        },
        "id": "5QZgf6ZopS8k",
        "outputId": "f92772c3-4067-4a8b-b0b2-99ba378d7954"
      },
      "execution_count": null,
      "outputs": [
        {
          "output_type": "execute_result",
          "data": {
            "text/plain": [
              "(50000, 32, 32, 3)"
            ]
          },
          "metadata": {},
          "execution_count": 28
        }
      ]
    },
    {
      "cell_type": "code",
      "source": [
        "y_trains.shape"
      ],
      "metadata": {
        "colab": {
          "base_uri": "https://localhost:8080/"
        },
        "id": "dcfYBPMDpWqK",
        "outputId": "8d9fcc93-d043-43f6-94fa-304bb99cac0e"
      },
      "execution_count": null,
      "outputs": [
        {
          "output_type": "execute_result",
          "data": {
            "text/plain": [
              "(50000, 1)"
            ]
          },
          "metadata": {},
          "execution_count": 29
        }
      ]
    },
    {
      "cell_type": "code",
      "source": [
        "x_test.shape"
      ],
      "metadata": {
        "colab": {
          "base_uri": "https://localhost:8080/"
        },
        "id": "CPa0r70tpY2r",
        "outputId": "a7369b62-5513-40fb-81ee-7909c548f969"
      },
      "execution_count": null,
      "outputs": [
        {
          "output_type": "execute_result",
          "data": {
            "text/plain": [
              "(10000, 32, 32, 3)"
            ]
          },
          "metadata": {},
          "execution_count": 30
        }
      ]
    },
    {
      "cell_type": "code",
      "source": [
        "from keras.layers import Dense\n",
        "\n",
        "model=Sequential()\n",
        "model.add(Dense(512,input_shape=(32*32*3,),activation='relu'))\n",
        "model.add(Dense(256,activation='relu'))\n",
        "model.add(Dense(128,activation='relu'))\n",
        "model.add(Dense(100,activation='softmax'))\n",
        "model.summary()\n"
      ],
      "metadata": {
        "colab": {
          "base_uri": "https://localhost:8080/"
        },
        "id": "k2JE3D5MpbU7",
        "outputId": "68189ddc-9532-4a7d-cd03-7c8f98684e52"
      },
      "execution_count": null,
      "outputs": [
        {
          "output_type": "stream",
          "name": "stdout",
          "text": [
            "Model: \"sequential_4\"\n",
            "_________________________________________________________________\n",
            " Layer (type)                Output Shape              Param #   \n",
            "=================================================================\n",
            " dense_16 (Dense)            (None, 512)               1573376   \n",
            "                                                                 \n",
            " dense_17 (Dense)            (None, 256)               131328    \n",
            "                                                                 \n",
            " dense_18 (Dense)            (None, 128)               32896     \n",
            "                                                                 \n",
            " dense_19 (Dense)            (None, 100)               12900     \n",
            "                                                                 \n",
            "=================================================================\n",
            "Total params: 1,750,500\n",
            "Trainable params: 1,750,500\n",
            "Non-trainable params: 0\n",
            "_________________________________________________________________\n"
          ]
        }
      ]
    },
    {
      "cell_type": "code",
      "source": [
        "x_trains = x_trains.reshape((50000,32*32*3))\n",
        "x_trains = x_trains.astype('float32')/255"
      ],
      "metadata": {
        "id": "6Amx6V8Bpnx_"
      },
      "execution_count": null,
      "outputs": []
    },
    {
      "cell_type": "code",
      "source": [
        "x_test = x_test.reshape((10000,32*32*3))\n",
        "x_test = x_test.astype('float32')/255"
      ],
      "metadata": {
        "id": "W2tw113oppdk"
      },
      "execution_count": null,
      "outputs": []
    },
    {
      "cell_type": "code",
      "source": [
        "from keras.utils import to_categorical\n",
        "y_trains = to_categorical(y_trains,100)\n",
        "y_test = to_categorical(y_test,100)"
      ],
      "metadata": {
        "id": "qlZER0_Upq7a"
      },
      "execution_count": null,
      "outputs": []
    },
    {
      "cell_type": "code",
      "source": [
        "model.compile(optimizer='adam',loss='categorical_crossentropy',metrics=['accuracy'])\n",
        "model.fit(x_trains,y_trains,epochs=100,batch_size=32)\n",
        "test_loss,test_acc=model.evaluate(x_test,y_test)\n",
        "\n",
        "print('test_acc:',test_acc)\n",
        "print('test_loss:',test_loss)"
      ],
      "metadata": {
        "colab": {
          "base_uri": "https://localhost:8080/"
        },
        "id": "QAblqIl9ptWK",
        "outputId": "c9123013-11a3-49f0-c124-1d63be39b08e"
      },
      "execution_count": null,
      "outputs": [
        {
          "output_type": "stream",
          "name": "stdout",
          "text": [
            "Epoch 1/100\n",
            "1563/1563 [==============================] - 39s 24ms/step - loss: 4.0962 - accuracy: 0.0705\n",
            "Epoch 2/100\n",
            "1563/1563 [==============================] - 39s 25ms/step - loss: 3.7333 - accuracy: 0.1270\n",
            "Epoch 3/100\n",
            "1563/1563 [==============================] - 38s 25ms/step - loss: 3.5568 - accuracy: 0.1569\n",
            "Epoch 4/100\n",
            "1563/1563 [==============================] - 38s 24ms/step - loss: 3.4419 - accuracy: 0.1783\n",
            "Epoch 5/100\n",
            "1563/1563 [==============================] - 38s 24ms/step - loss: 3.3555 - accuracy: 0.1934\n",
            "Epoch 6/100\n",
            "1563/1563 [==============================] - 38s 24ms/step - loss: 3.2885 - accuracy: 0.2028\n",
            "Epoch 7/100\n",
            "1563/1563 [==============================] - 38s 24ms/step - loss: 3.2365 - accuracy: 0.2120\n",
            "Epoch 8/100\n",
            "1563/1563 [==============================] - 38s 24ms/step - loss: 3.1880 - accuracy: 0.2193\n",
            "Epoch 9/100\n",
            "1563/1563 [==============================] - 38s 24ms/step - loss: 3.1517 - accuracy: 0.2277\n",
            "Epoch 10/100\n",
            "1563/1563 [==============================] - 38s 24ms/step - loss: 3.1099 - accuracy: 0.2360\n",
            "Epoch 11/100\n",
            "1563/1563 [==============================] - 38s 24ms/step - loss: 3.0803 - accuracy: 0.2404\n",
            "Epoch 12/100\n",
            "1563/1563 [==============================] - 38s 24ms/step - loss: 3.0482 - accuracy: 0.2460\n",
            "Epoch 13/100\n",
            "1563/1563 [==============================] - 37s 24ms/step - loss: 3.0193 - accuracy: 0.2489\n",
            "Epoch 14/100\n",
            "1563/1563 [==============================] - 37s 24ms/step - loss: 2.9920 - accuracy: 0.2557\n",
            "Epoch 15/100\n",
            "1563/1563 [==============================] - 37s 24ms/step - loss: 2.9657 - accuracy: 0.2600\n",
            "Epoch 16/100\n",
            "1563/1563 [==============================] - 38s 25ms/step - loss: 2.9470 - accuracy: 0.2636\n",
            "Epoch 17/100\n",
            "1563/1563 [==============================] - 39s 25ms/step - loss: 2.9218 - accuracy: 0.2675\n",
            "Epoch 18/100\n",
            "1563/1563 [==============================] - 38s 24ms/step - loss: 2.8955 - accuracy: 0.2728\n",
            "Epoch 19/100\n",
            "1563/1563 [==============================] - 37s 24ms/step - loss: 2.8795 - accuracy: 0.2747\n",
            "Epoch 20/100\n",
            "1563/1563 [==============================] - 37s 24ms/step - loss: 2.8608 - accuracy: 0.2794\n",
            "Epoch 21/100\n",
            "1563/1563 [==============================] - 38s 24ms/step - loss: 2.8462 - accuracy: 0.2822\n",
            "Epoch 22/100\n",
            "1563/1563 [==============================] - 38s 24ms/step - loss: 2.8257 - accuracy: 0.2842\n",
            "Epoch 23/100\n",
            "1563/1563 [==============================] - 38s 24ms/step - loss: 2.8049 - accuracy: 0.2924\n",
            "Epoch 24/100\n",
            "1563/1563 [==============================] - 38s 24ms/step - loss: 2.7882 - accuracy: 0.2916\n",
            "Epoch 25/100\n",
            "1563/1563 [==============================] - 38s 24ms/step - loss: 2.7784 - accuracy: 0.2927\n",
            "Epoch 26/100\n",
            "1563/1563 [==============================] - 38s 24ms/step - loss: 2.7577 - accuracy: 0.3022\n",
            "Epoch 27/100\n",
            "1563/1563 [==============================] - 39s 25ms/step - loss: 2.7452 - accuracy: 0.3039\n",
            "Epoch 28/100\n",
            "1563/1563 [==============================] - 38s 24ms/step - loss: 2.7350 - accuracy: 0.3045\n",
            "Epoch 29/100\n",
            "1563/1563 [==============================] - 37s 24ms/step - loss: 2.7192 - accuracy: 0.3098\n",
            "Epoch 30/100\n",
            "1563/1563 [==============================] - 38s 24ms/step - loss: 2.7103 - accuracy: 0.3088\n",
            "Epoch 31/100\n",
            "1563/1563 [==============================] - 38s 24ms/step - loss: 2.6896 - accuracy: 0.3138\n",
            "Epoch 32/100\n",
            "1563/1563 [==============================] - 38s 24ms/step - loss: 2.6836 - accuracy: 0.3126\n",
            "Epoch 33/100\n",
            "1563/1563 [==============================] - 37s 24ms/step - loss: 2.6757 - accuracy: 0.3153\n",
            "Epoch 34/100\n",
            "1563/1563 [==============================] - 38s 24ms/step - loss: 2.6551 - accuracy: 0.3213\n",
            "Epoch 35/100\n",
            "1563/1563 [==============================] - 37s 24ms/step - loss: 2.6483 - accuracy: 0.3217\n",
            "Epoch 36/100\n",
            "1563/1563 [==============================] - 37s 24ms/step - loss: 2.6380 - accuracy: 0.3222\n",
            "Epoch 37/100\n",
            "1563/1563 [==============================] - 38s 24ms/step - loss: 2.6304 - accuracy: 0.3244\n",
            "Epoch 38/100\n",
            "1563/1563 [==============================] - 37s 24ms/step - loss: 2.6100 - accuracy: 0.3297\n",
            "Epoch 39/100\n",
            "1563/1563 [==============================] - 37s 24ms/step - loss: 2.6103 - accuracy: 0.3276\n",
            "Epoch 40/100\n",
            "1563/1563 [==============================] - 38s 24ms/step - loss: 2.5941 - accuracy: 0.3316\n",
            "Epoch 41/100\n",
            "1563/1563 [==============================] - 38s 24ms/step - loss: 2.5889 - accuracy: 0.3327\n",
            "Epoch 42/100\n",
            "1563/1563 [==============================] - 37s 24ms/step - loss: 2.5811 - accuracy: 0.3345\n",
            "Epoch 43/100\n",
            "1563/1563 [==============================] - 38s 24ms/step - loss: 2.5648 - accuracy: 0.3367\n",
            "Epoch 44/100\n",
            "1563/1563 [==============================] - 38s 24ms/step - loss: 2.5534 - accuracy: 0.3405\n",
            "Epoch 45/100\n",
            "1563/1563 [==============================] - 37s 24ms/step - loss: 2.5532 - accuracy: 0.3446\n",
            "Epoch 46/100\n",
            "1563/1563 [==============================] - 36s 23ms/step - loss: 2.5451 - accuracy: 0.3434\n",
            "Epoch 47/100\n",
            "1563/1563 [==============================] - 35s 23ms/step - loss: 2.5222 - accuracy: 0.3484\n",
            "Epoch 48/100\n",
            "1563/1563 [==============================] - 35s 22ms/step - loss: 2.5395 - accuracy: 0.3445\n",
            "Epoch 49/100\n",
            "1563/1563 [==============================] - 35s 23ms/step - loss: 2.5272 - accuracy: 0.3470\n",
            "Epoch 50/100\n",
            "1563/1563 [==============================] - 36s 23ms/step - loss: 2.5086 - accuracy: 0.3514\n",
            "Epoch 51/100\n",
            "1563/1563 [==============================] - 35s 23ms/step - loss: 2.5015 - accuracy: 0.3536\n",
            "Epoch 52/100\n",
            "1563/1563 [==============================] - 35s 23ms/step - loss: 2.5060 - accuracy: 0.3499\n",
            "Epoch 53/100\n",
            "1563/1563 [==============================] - 35s 23ms/step - loss: 2.4899 - accuracy: 0.3556\n",
            "Epoch 54/100\n",
            "1563/1563 [==============================] - 36s 23ms/step - loss: 2.4885 - accuracy: 0.3528\n",
            "Epoch 55/100\n",
            "1563/1563 [==============================] - 35s 23ms/step - loss: 2.4866 - accuracy: 0.3537\n",
            "Epoch 56/100\n",
            "1563/1563 [==============================] - 36s 23ms/step - loss: 2.4743 - accuracy: 0.3581\n",
            "Epoch 57/100\n",
            "1563/1563 [==============================] - 38s 24ms/step - loss: 2.4682 - accuracy: 0.3602\n",
            "Epoch 58/100\n",
            "1563/1563 [==============================] - 38s 24ms/step - loss: 2.4520 - accuracy: 0.3628\n",
            "Epoch 59/100\n",
            "1563/1563 [==============================] - 38s 24ms/step - loss: 2.4578 - accuracy: 0.3632\n",
            "Epoch 60/100\n",
            "1563/1563 [==============================] - 38s 24ms/step - loss: 2.4562 - accuracy: 0.3617\n",
            "Epoch 61/100\n",
            "1563/1563 [==============================] - 37s 24ms/step - loss: 2.4387 - accuracy: 0.3655\n",
            "Epoch 62/100\n",
            "1563/1563 [==============================] - 37s 24ms/step - loss: 2.4445 - accuracy: 0.3649\n",
            "Epoch 63/100\n",
            "1563/1563 [==============================] - 37s 24ms/step - loss: 2.4411 - accuracy: 0.3653\n",
            "Epoch 64/100\n",
            "1563/1563 [==============================] - 37s 24ms/step - loss: 2.4241 - accuracy: 0.3689\n",
            "Epoch 65/100\n",
            "1563/1563 [==============================] - 38s 24ms/step - loss: 2.4244 - accuracy: 0.3697\n",
            "Epoch 66/100\n",
            "1563/1563 [==============================] - 38s 24ms/step - loss: 2.4155 - accuracy: 0.3728\n",
            "Epoch 67/100\n",
            "1563/1563 [==============================] - 38s 25ms/step - loss: 2.4234 - accuracy: 0.3692\n",
            "Epoch 68/100\n",
            "1563/1563 [==============================] - 38s 24ms/step - loss: 2.4181 - accuracy: 0.3713\n",
            "Epoch 69/100\n",
            "1563/1563 [==============================] - 38s 24ms/step - loss: 2.3997 - accuracy: 0.3759\n",
            "Epoch 70/100\n",
            "1563/1563 [==============================] - 38s 24ms/step - loss: 2.3954 - accuracy: 0.3737\n",
            "Epoch 71/100\n",
            "1563/1563 [==============================] - 38s 24ms/step - loss: 2.3949 - accuracy: 0.3771\n",
            "Epoch 72/100\n",
            "1563/1563 [==============================] - 38s 24ms/step - loss: 2.3928 - accuracy: 0.3755\n",
            "Epoch 73/100\n",
            "1563/1563 [==============================] - 38s 24ms/step - loss: 2.3900 - accuracy: 0.3782\n",
            "Epoch 74/100\n",
            "1563/1563 [==============================] - 39s 25ms/step - loss: 2.3876 - accuracy: 0.3771\n",
            "Epoch 75/100\n",
            "1563/1563 [==============================] - 38s 24ms/step - loss: 2.3647 - accuracy: 0.3830\n",
            "Epoch 76/100\n",
            "1563/1563 [==============================] - 38s 24ms/step - loss: 2.3720 - accuracy: 0.3801\n",
            "Epoch 77/100\n",
            "1563/1563 [==============================] - 38s 24ms/step - loss: 2.3549 - accuracy: 0.3818\n",
            "Epoch 78/100\n",
            "1563/1563 [==============================] - 37s 24ms/step - loss: 2.3730 - accuracy: 0.3806\n",
            "Epoch 79/100\n",
            "1563/1563 [==============================] - 38s 24ms/step - loss: 2.3600 - accuracy: 0.3829\n",
            "Epoch 80/100\n",
            "1563/1563 [==============================] - 39s 25ms/step - loss: 2.3509 - accuracy: 0.3857\n",
            "Epoch 81/100\n",
            "1563/1563 [==============================] - 38s 24ms/step - loss: 2.3521 - accuracy: 0.3840\n",
            "Epoch 82/100\n",
            "1563/1563 [==============================] - 38s 24ms/step - loss: 2.3467 - accuracy: 0.3865\n",
            "Epoch 83/100\n",
            "1563/1563 [==============================] - 38s 24ms/step - loss: 2.3497 - accuracy: 0.3856\n",
            "Epoch 84/100\n",
            "1563/1563 [==============================] - 38s 24ms/step - loss: 2.3281 - accuracy: 0.3881\n",
            "Epoch 85/100\n",
            "1563/1563 [==============================] - 37s 24ms/step - loss: 2.3349 - accuracy: 0.3867\n",
            "Epoch 86/100\n",
            "1563/1563 [==============================] - 37s 24ms/step - loss: 2.3309 - accuracy: 0.3885\n",
            "Epoch 87/100\n",
            "1563/1563 [==============================] - 37s 24ms/step - loss: 2.3375 - accuracy: 0.3890\n",
            "Epoch 88/100\n",
            "1563/1563 [==============================] - 37s 24ms/step - loss: 2.3209 - accuracy: 0.3913\n",
            "Epoch 89/100\n",
            "1563/1563 [==============================] - 38s 24ms/step - loss: 2.3158 - accuracy: 0.3940\n",
            "Epoch 90/100\n",
            "1563/1563 [==============================] - 37s 24ms/step - loss: 2.3130 - accuracy: 0.3952\n",
            "Epoch 91/100\n",
            "1563/1563 [==============================] - 37s 24ms/step - loss: 2.3148 - accuracy: 0.3936\n",
            "Epoch 92/100\n",
            "1563/1563 [==============================] - 38s 24ms/step - loss: 2.3147 - accuracy: 0.3938\n",
            "Epoch 93/100\n",
            "1563/1563 [==============================] - 38s 24ms/step - loss: 2.3116 - accuracy: 0.3945\n",
            "Epoch 94/100\n",
            "1563/1563 [==============================] - 38s 24ms/step - loss: 2.2975 - accuracy: 0.3969\n",
            "Epoch 95/100\n",
            "1563/1563 [==============================] - 38s 24ms/step - loss: 2.3030 - accuracy: 0.3969\n",
            "Epoch 96/100\n",
            "1563/1563 [==============================] - 37s 24ms/step - loss: 2.3001 - accuracy: 0.3966\n",
            "Epoch 97/100\n",
            "1563/1563 [==============================] - 37s 24ms/step - loss: 2.3055 - accuracy: 0.3986\n",
            "Epoch 98/100\n",
            "1563/1563 [==============================] - 38s 25ms/step - loss: 2.2948 - accuracy: 0.3986\n",
            "Epoch 99/100\n",
            "1563/1563 [==============================] - 38s 24ms/step - loss: 2.2856 - accuracy: 0.4011\n",
            "Epoch 100/100\n",
            "1563/1563 [==============================] - 37s 24ms/step - loss: 2.2821 - accuracy: 0.4016\n",
            "313/313 [==============================] - 2s 6ms/step - loss: 4.5872 - accuracy: 0.2034\n",
            "test_acc: 0.20340000092983246\n",
            "test_loss: 4.587165832519531\n"
          ]
        }
      ]
    },
    {
      "cell_type": "code",
      "source": [
        "from keras.utils import load_img\n",
        "import matplotlib.pyplot as plt\n",
        "img = load_img('meo1.jpg',target_size=(32,32))\n",
        "plt.imshow(img)\n"
      ],
      "metadata": {
        "colab": {
          "base_uri": "https://localhost:8080/",
          "height": 447
        },
        "id": "B2SlXWMp7M6n",
        "outputId": "1342d9a7-e0f1-474c-fd67-74de85c4bc58"
      },
      "execution_count": null,
      "outputs": [
        {
          "output_type": "execute_result",
          "data": {
            "text/plain": [
              "<matplotlib.image.AxesImage at 0x7f67e9b67490>"
            ]
          },
          "metadata": {},
          "execution_count": 37
        },
        {
          "output_type": "display_data",
          "data": {
            "text/plain": [
              "<Figure size 640x480 with 1 Axes>"
            ],
            "image/png": "[encoded data removed]"
          },
          "metadata": {}
        }
      ]
    },
    {
      "cell_type": "code",
      "source": [
        "import numpy as np\n",
        "from keras.utils.image_utils import img_to_array\n",
        "img = img_to_array(img)\n",
        "img = img.reshape(1,32*32*3)\n",
        "img=img.astype('float32')\n",
        "img=img/255\n",
        "np.argmax(model.predict(img),axis=-1)"
      ],
      "metadata": {
        "colab": {
          "base_uri": "https://localhost:8080/"
        },
        "id": "vOZrrMZn70qh",
        "outputId": "d5552655-e978-480e-864f-bdefb16a2f37"
      },
      "execution_count": null,
      "outputs": [
        {
          "output_type": "stream",
          "name": "stdout",
          "text": [
            "1/1 [==============================] - 0s 23ms/step\n"
          ]
        },
        {
          "output_type": "execute_result",
          "data": {
            "text/plain": [
              "array([22])"
            ]
          },
          "metadata": {},
          "execution_count": 40
        }
      ]
    },
    {
      "cell_type": "code",
      "source": [
        "model.save('model_cifar100.h5')"
      ],
      "metadata": {
        "id": "Eq5nKYxm74_9"
      },
      "execution_count": null,
      "outputs": []
    }
  ]
}