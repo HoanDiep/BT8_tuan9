{
  "nbformat": 4,
  "nbformat_minor": 0,
  "metadata": {
    "colab": {
      "provenance": [],
      "authorship_tag": "ABX9TyOMR7EgLzCFQBU3K7XZQLE5",
      "include_colab_link": true
    },
    "kernelspec": {
      "name": "python3",
      "display_name": "Python 3"
    },
    "language_info": {
      "name": "python"
    }
  },
  "cells": [
    {
      "cell_type": "markdown",
      "metadata": {
        "id": "view-in-github",
        "colab_type": "text"
      },
      "source": [
        "<a href=\"https://colab.research.google.com/github/HoanDiep/BT8_tuan9/blob/main/Housing_homework.ipynb\" target=\"_parent\"><img src=\"https://colab.research.google.com/assets/colab-badge.svg\" alt=\"Open In Colab\"/></a>"
      ]
    },
    {
      "cell_type": "code",
      "execution_count": 2,
      "metadata": {
        "colab": {
          "base_uri": "https://localhost:8080/",
          "height": 270
        },
        "id": "_tFXmngAk2DN",
        "outputId": "17880d98-98b2-4f6e-97dd-8ed9f1fbc011"
      },
      "outputs": [
        {
          "output_type": "execute_result",
          "data": {
            "text/plain": [
              "      price  area  bedrooms  bathrooms  stories mainroad guestroom basement  \\\n",
              "0  13300000  7420         4          2        3      yes        no       no   \n",
              "1  12250000  8960         4          4        4      yes        no       no   \n",
              "2  12250000  9960         3          2        2      yes        no      yes   \n",
              "3  12215000  7500         4          2        2      yes        no      yes   \n",
              "4  11410000  7420         4          1        2      yes       yes      yes   \n",
              "\n",
              "  hotwaterheating airconditioning  parking prefarea furnishingstatus  \n",
              "0              no             yes        2      yes        furnished  \n",
              "1              no             yes        3       no        furnished  \n",
              "2              no              no        2      yes   semi-furnished  \n",
              "3              no             yes        3      yes        furnished  \n",
              "4              no             yes        2       no        furnished  "
            ],
            "text/html": [
              "\n",
              "  <div id=\"df-75079cb7-1d50-4720-9b81-ab48b543b18a\">\n",
              "    <div class=\"colab-df-container\">\n",
              "      <div>\n",
              "<style scoped>\n",
              "    .dataframe tbody tr th:only-of-type {\n",
              "        vertical-align: middle;\n",
              "    }\n",
              "\n",
              "    .dataframe tbody tr th {\n",
              "        vertical-align: top;\n",
              "    }\n",
              "\n",
              "    .dataframe thead th {\n",
              "        text-align: right;\n",
              "    }\n",
              "</style>\n",
              "<table border=\"1\" class=\"dataframe\">\n",
              "  <thead>\n",
              "    <tr style=\"text-align: right;\">\n",
              "      <th></th>\n",
              "      <th>price</th>\n",
              "      <th>area</th>\n",
              "      <th>bedrooms</th>\n",
              "      <th>bathrooms</th>\n",
              "      <th>stories</th>\n",
              "      <th>mainroad</th>\n",
              "      <th>guestroom</th>\n",
              "      <th>basement</th>\n",
              "      <th>hotwaterheating</th>\n",
              "      <th>airconditioning</th>\n",
              "      <th>parking</th>\n",
              "      <th>prefarea</th>\n",
              "      <th>furnishingstatus</th>\n",
              "    </tr>\n",
              "  </thead>\n",
              "  <tbody>\n",
              "    <tr>\n",
              "      <th>0</th>\n",
              "      <td>13300000</td>\n",
              "      <td>7420</td>\n",
              "      <td>4</td>\n",
              "      <td>2</td>\n",
              "      <td>3</td>\n",
              "      <td>yes</td>\n",
              "      <td>no</td>\n",
              "      <td>no</td>\n",
              "      <td>no</td>\n",
              "      <td>yes</td>\n",
              "      <td>2</td>\n",
              "      <td>yes</td>\n",
              "      <td>furnished</td>\n",
              "    </tr>\n",
              "    <tr>\n",
              "      <th>1</th>\n",
              "      <td>12250000</td>\n",
              "      <td>8960</td>\n",
              "      <td>4</td>\n",
              "      <td>4</td>\n",
              "      <td>4</td>\n",
              "      <td>yes</td>\n",
              "      <td>no</td>\n",
              "      <td>no</td>\n",
              "      <td>no</td>\n",
              "      <td>yes</td>\n",
              "      <td>3</td>\n",
              "      <td>no</td>\n",
              "      <td>furnished</td>\n",
              "    </tr>\n",
              "    <tr>\n",
              "      <th>2</th>\n",
              "      <td>12250000</td>\n",
              "      <td>9960</td>\n",
              "      <td>3</td>\n",
              "      <td>2</td>\n",
              "      <td>2</td>\n",
              "      <td>yes</td>\n",
              "      <td>no</td>\n",
              "      <td>yes</td>\n",
              "      <td>no</td>\n",
              "      <td>no</td>\n",
              "      <td>2</td>\n",
              "      <td>yes</td>\n",
              "      <td>semi-furnished</td>\n",
              "    </tr>\n",
              "    <tr>\n",
              "      <th>3</th>\n",
              "      <td>12215000</td>\n",
              "      <td>7500</td>\n",
              "      <td>4</td>\n",
              "      <td>2</td>\n",
              "      <td>2</td>\n",
              "      <td>yes</td>\n",
              "      <td>no</td>\n",
              "      <td>yes</td>\n",
              "      <td>no</td>\n",
              "      <td>yes</td>\n",
              "      <td>3</td>\n",
              "      <td>yes</td>\n",
              "      <td>furnished</td>\n",
              "    </tr>\n",
              "    <tr>\n",
              "      <th>4</th>\n",
              "      <td>11410000</td>\n",
              "      <td>7420</td>\n",
              "      <td>4</td>\n",
              "      <td>1</td>\n",
              "      <td>2</td>\n",
              "      <td>yes</td>\n",
              "      <td>yes</td>\n",
              "      <td>yes</td>\n",
              "      <td>no</td>\n",
              "      <td>yes</td>\n",
              "      <td>2</td>\n",
              "      <td>no</td>\n",
              "      <td>furnished</td>\n",
              "    </tr>\n",
              "  </tbody>\n",
              "</table>\n",
              "</div>\n",
              "      <button class=\"colab-df-convert\" onclick=\"convertToInteractive('df-75079cb7-1d50-4720-9b81-ab48b543b18a')\"\n",
              "              title=\"Convert this dataframe to an interactive table.\"\n",
              "              style=\"display:none;\">\n",
              "        \n",
              "  <svg xmlns=\"http://www.w3.org/2000/svg\" height=\"24px\"viewBox=\"0 0 24 24\"\n",
              "       width=\"24px\">\n",
              "    <path d=\"M0 0h24v24H0V0z\" fill=\"none\"/>\n",
              "    <path d=\"M18.56 5.44l.94 2.06.94-2.06 2.06-.94-2.06-.94-.94-2.06-.94 2.06-2.06.94zm-11 1L8.5 8.5l.94-2.06 2.06-.94-2.06-.94L8.5 2.5l-.94 2.06-2.06.94zm10 10l.94 2.06.94-2.06 2.06-.94-2.06-.94-.94-2.06-.94 2.06-2.06.94z\"/><path d=\"M17.41 7.96l-1.37-1.37c-.4-.4-.92-.59-1.43-.59-.52 0-1.04.2-1.43.59L10.3 9.45l-7.72 7.72c-.78.78-.78 2.05 0 2.83L4 21.41c.39.39.9.59 1.41.59.51 0 1.02-.2 1.41-.59l7.78-7.78 2.81-2.81c.8-.78.8-2.07 0-2.86zM5.41 20L4 18.59l7.72-7.72 1.47 1.35L5.41 20z\"/>\n",
              "  </svg>\n",
              "      </button>\n",
              "      \n",
              "  <style>\n",
              "    .colab-df-container {\n",
              "      display:flex;\n",
              "      flex-wrap:wrap;\n",
              "      gap: 12px;\n",
              "    }\n",
              "\n",
              "    .colab-df-convert {\n",
              "      background-color: #E8F0FE;\n",
              "      border: none;\n",
              "      border-radius: 50%;\n",
              "      cursor: pointer;\n",
              "      display: none;\n",
              "      fill: #1967D2;\n",
              "      height: 32px;\n",
              "      padding: 0 0 0 0;\n",
              "      width: 32px;\n",
              "    }\n",
              "\n",
              "    .colab-df-convert:hover {\n",
              "      background-color: #E2EBFA;\n",
              "      box-shadow: 0px 1px 2px rgba(60, 64, 67, 0.3), 0px 1px 3px 1px rgba(60, 64, 67, 0.15);\n",
              "      fill: #174EA6;\n",
              "    }\n",
              "\n",
              "    [theme=dark] .colab-df-convert {\n",
              "      background-color: #3B4455;\n",
              "      fill: #D2E3FC;\n",
              "    }\n",
              "\n",
              "    [theme=dark] .colab-df-convert:hover {\n",
              "      background-color: #434B5C;\n",
              "      box-shadow: 0px 1px 3px 1px rgba(0, 0, 0, 0.15);\n",
              "      filter: drop-shadow(0px 1px 2px rgba(0, 0, 0, 0.3));\n",
              "      fill: #FFFFFF;\n",
              "    }\n",
              "  </style>\n",
              "\n",
              "      <script>\n",
              "        const buttonEl =\n",
              "          document.querySelector('#df-75079cb7-1d50-4720-9b81-ab48b543b18a button.colab-df-convert');\n",
              "        buttonEl.style.display =\n",
              "          google.colab.kernel.accessAllowed ? 'block' : 'none';\n",
              "\n",
              "        async function convertToInteractive(key) {\n",
              "          const element = document.querySelector('#df-75079cb7-1d50-4720-9b81-ab48b543b18a');\n",
              "          const dataTable =\n",
              "            await google.colab.kernel.invokeFunction('convertToInteractive',\n",
              "                                                     [key], {});\n",
              "          if (!dataTable) return;\n",
              "\n",
              "          const docLinkHtml = 'Like what you see? Visit the ' +\n",
              "            '<a target=\"_blank\" href=https://colab.research.google.com/notebooks/data_table.ipynb>data table notebook</a>'\n",
              "            + ' to learn more about interactive tables.';\n",
              "          element.innerHTML = '';\n",
              "          dataTable['output_type'] = 'display_data';\n",
              "          await google.colab.output.renderOutput(dataTable, element);\n",
              "          const docLink = document.createElement('div');\n",
              "          docLink.innerHTML = docLinkHtml;\n",
              "          element.appendChild(docLink);\n",
              "        }\n",
              "      </script>\n",
              "    </div>\n",
              "  </div>\n",
              "  "
            ]
          },
          "metadata": {},
          "execution_count": 2
        }
      ],
      "source": [
        "\n",
        "import pandas as pd\n",
        "import numpy as np\n",
        "from sklearn.model_selection import train_test_split\n",
        "from sklearn.preprocessing import MinMaxScaler, StandardScaler, OneHotEncoder\n",
        "from sklearn.compose import ColumnTransformer\n",
        "from keras.models import Sequential\n",
        "from keras.layers import Dense\n",
        "\n",
        "data = pd.read_csv(\"Housing.csv\")\n",
        "data.head()"
      ]
    },
    {
      "cell_type": "code",
      "source": [
        "data.shape\n"
      ],
      "metadata": {
        "colab": {
          "base_uri": "https://localhost:8080/"
        },
        "id": "vqZ7QdS1lXVA",
        "outputId": "12ddfaf1-3088-4f92-ac9f-b89a05aaee45"
      },
      "execution_count": 3,
      "outputs": [
        {
          "output_type": "execute_result",
          "data": {
            "text/plain": [
              "(545, 13)"
            ]
          },
          "metadata": {},
          "execution_count": 3
        }
      ]
    },
    {
      "cell_type": "code",
      "source": [
        "X=data.drop(data.columns[[0]],axis=1)\n",
        "Y=data['price']\n",
        "\n",
        "categorical_cols = [col for col in X.columns if X[col].dtype == 'object']\n",
        "ct = ColumnTransformer([('encoder', OneHotEncoder(), categorical_cols)], remainder='passthrough')\n",
        "X = np.array(ct.fit_transform(X))\n",
        "\n",
        "X\n"
      ],
      "metadata": {
        "colab": {
          "base_uri": "https://localhost:8080/"
        },
        "id": "T72uSqItlbOP",
        "outputId": "060011db-a1e0-4ebf-ca85-29d27b07b245"
      },
      "execution_count": 13,
      "outputs": [
        {
          "output_type": "execute_result",
          "data": {
            "text/plain": [
              "array([[0., 1., 1., ..., 2., 3., 2.],\n",
              "       [0., 1., 1., ..., 4., 4., 3.],\n",
              "       [0., 1., 1., ..., 2., 2., 2.],\n",
              "       ...,\n",
              "       [0., 1., 1., ..., 1., 1., 0.],\n",
              "       [1., 0., 1., ..., 1., 1., 0.],\n",
              "       [0., 1., 1., ..., 1., 2., 0.]])"
            ]
          },
          "metadata": {},
          "execution_count": 13
        }
      ]
    },
    {
      "cell_type": "code",
      "source": [
        "sc = StandardScaler()\n",
        "X[:, len(categorical_cols):] = sc.fit_transform(X[:, len(categorical_cols):])\n",
        "\n",
        "\n",
        "X_train, X_test, y_train, y_test = train_test_split(X, Y, test_size=0.2, random_state=0)"
      ],
      "metadata": {
        "id": "d9L0TeEznYRN"
      },
      "execution_count": 15,
      "outputs": []
    },
    {
      "cell_type": "code",
      "source": [
        "scaler = MinMaxScaler()\n",
        "X_train_scaled = scaler.fit_transform(X_train)\n",
        "X_test_scaled = scaler.transform(X_test)"
      ],
      "metadata": {
        "id": "mGUTN0w-noic"
      },
      "execution_count": 16,
      "outputs": []
    },
    {
      "cell_type": "code",
      "source": [
        "model = Sequential()\n",
        "model.add(Dense(128, activation='relu', input_dim=X_train.shape[1]))\n",
        "model.add(Dense(64, activation='relu'))\n",
        "model.add(Dense(1))"
      ],
      "metadata": {
        "id": "qIVjWR8onunM"
      },
      "execution_count": 17,
      "outputs": []
    },
    {
      "cell_type": "code",
      "source": [
        "model.compile(loss='mean_squared_error', optimizer='adam', metrics=['mae'])\n",
        "model.summary()"
      ],
      "metadata": {
        "colab": {
          "base_uri": "https://localhost:8080/"
        },
        "id": "j-_EWibrnzjl",
        "outputId": "634db038-a6f8-48da-8921-e26bebadc1e5"
      },
      "execution_count": 18,
      "outputs": [
        {
          "output_type": "stream",
          "name": "stdout",
          "text": [
            "Model: \"sequential\"\n",
            "_________________________________________________________________\n",
            " Layer (type)                Output Shape              Param #   \n",
            "=================================================================\n",
            " dense (Dense)               (None, 128)               2688      \n",
            "                                                                 \n",
            " dense_1 (Dense)             (None, 64)                8256      \n",
            "                                                                 \n",
            " dense_2 (Dense)             (None, 1)                 65        \n",
            "                                                                 \n",
            "=================================================================\n",
            "Total params: 11,009\n",
            "Trainable params: 11,009\n",
            "Non-trainable params: 0\n",
            "_________________________________________________________________\n"
          ]
        }
      ]
    },
    {
      "cell_type": "code",
      "source": [
        "history = model.fit(X_train_scaled, y_train, validation_split=0.2, epochs=100, batch_size=32)"
      ],
      "metadata": {
        "colab": {
          "base_uri": "https://localhost:8080/"
        },
        "id": "Xr6hi9nhn0yN",
        "outputId": "58c2a33a-49e4-40a3-df9f-f0d6519085cf"
      },
      "execution_count": 19,
      "outputs": [
        {
          "output_type": "stream",
          "name": "stdout",
          "text": [
            "Epoch 1/100\n",
            "11/11 [==============================] - 2s 43ms/step - loss: 26817285062656.0000 - mae: 4787143.5000 - val_loss: 25096515223552.0000 - val_mae: 4740033.0000\n",
            "Epoch 2/100\n",
            "11/11 [==============================] - 0s 10ms/step - loss: 26817270382592.0000 - mae: 4787142.0000 - val_loss: 25096498446336.0000 - val_mae: 4740031.0000\n",
            "Epoch 3/100\n",
            "11/11 [==============================] - 0s 9ms/step - loss: 26817241022464.0000 - mae: 4787139.0000 - val_loss: 25096458600448.0000 - val_mae: 4740027.0000\n",
            "Epoch 4/100\n",
            "11/11 [==============================] - 0s 11ms/step - loss: 26817192787968.0000 - mae: 4787133.5000 - val_loss: 25096387297280.0000 - val_mae: 4740019.5000\n",
            "Epoch 5/100\n",
            "11/11 [==============================] - 0s 10ms/step - loss: 26817096318976.0000 - mae: 4787124.0000 - val_loss: 25096261468160.0000 - val_mae: 4740006.5000\n",
            "Epoch 6/100\n",
            "11/11 [==============================] - 0s 10ms/step - loss: 26816939032576.0000 - mae: 4787107.5000 - val_loss: 25096058044416.0000 - val_mae: 4739985.5000\n",
            "Epoch 7/100\n",
            "11/11 [==============================] - 0s 8ms/step - loss: 26816689471488.0000 - mae: 4787081.5000 - val_loss: 25095747665920.0000 - val_mae: 4739953.5000\n",
            "Epoch 8/100\n",
            "11/11 [==============================] - 0s 9ms/step - loss: 26816316178432.0000 - mae: 4787043.5000 - val_loss: 25095300972544.0000 - val_mae: 4739907.5000\n",
            "Epoch 9/100\n",
            "11/11 [==============================] - 0s 9ms/step - loss: 26815791890432.0000 - mae: 4786990.5000 - val_loss: 25094690701312.0000 - val_mae: 4739843.5000\n",
            "Epoch 10/100\n",
            "11/11 [==============================] - 0s 8ms/step - loss: 26815093538816.0000 - mae: 4786918.0000 - val_loss: 25093877006336.0000 - val_mae: 4739759.5000\n",
            "Epoch 11/100\n",
            "11/11 [==============================] - 0s 5ms/step - loss: 26814168694784.0000 - mae: 4786823.5000 - val_loss: 25092836818944.0000 - val_mae: 4739651.5000\n",
            "Epoch 12/100\n",
            "11/11 [==============================] - 0s 5ms/step - loss: 26813004775424.0000 - mae: 4786703.5000 - val_loss: 25091532390400.0000 - val_mae: 4739516.5000\n",
            "Epoch 13/100\n",
            "11/11 [==============================] - 0s 5ms/step - loss: 26811551449088.0000 - mae: 4786555.5000 - val_loss: 25089932263424.0000 - val_mae: 4739350.5000\n",
            "Epoch 14/100\n",
            "11/11 [==============================] - 0s 8ms/step - loss: 26809768869888.0000 - mae: 4786375.0000 - val_loss: 25088017563648.0000 - val_mae: 4739152.0000\n",
            "Epoch 15/100\n",
            "11/11 [==============================] - 0s 6ms/step - loss: 26807678009344.0000 - mae: 4786160.0000 - val_loss: 25085729570816.0000 - val_mae: 4738915.0000\n",
            "Epoch 16/100\n",
            "11/11 [==============================] - 0s 6ms/step - loss: 26805226438656.0000 - mae: 4785905.5000 - val_loss: 25083036827648.0000 - val_mae: 4738635.5000\n",
            "Epoch 17/100\n",
            "11/11 [==============================] - 0s 7ms/step - loss: 26802303008768.0000 - mae: 4785609.5000 - val_loss: 25079972888576.0000 - val_mae: 4738318.0000\n",
            "Epoch 18/100\n",
            "11/11 [==============================] - 0s 6ms/step - loss: 26798991605760.0000 - mae: 4785271.0000 - val_loss: 25076453867520.0000 - val_mae: 4737952.0000\n",
            "Epoch 19/100\n",
            "11/11 [==============================] - 0s 6ms/step - loss: 26795208343552.0000 - mae: 4784885.0000 - val_loss: 25072444112896.0000 - val_mae: 4737536.5000\n",
            "Epoch 20/100\n",
            "11/11 [==============================] - 0s 6ms/step - loss: 26790938542080.0000 - mae: 4784445.0000 - val_loss: 25067916361728.0000 - val_mae: 4737067.0000\n",
            "Epoch 21/100\n",
            "11/11 [==============================] - 0s 6ms/step - loss: 26786186395648.0000 - mae: 4783952.0000 - val_loss: 25062820282368.0000 - val_mae: 4736538.5000\n",
            "Epoch 22/100\n",
            "11/11 [==============================] - 0s 8ms/step - loss: 26780746383360.0000 - mae: 4783401.0000 - val_loss: 25057248149504.0000 - val_mae: 4735960.5000\n",
            "Epoch 23/100\n",
            "11/11 [==============================] - 0s 5ms/step - loss: 26774851289088.0000 - mae: 4782796.5000 - val_loss: 25051036385280.0000 - val_mae: 4735316.5000\n",
            "Epoch 24/100\n",
            "11/11 [==============================] - 0s 7ms/step - loss: 26768310272000.0000 - mae: 4782124.0000 - val_loss: 25044203864064.0000 - val_mae: 4734606.5000\n",
            "Epoch 25/100\n",
            "11/11 [==============================] - 0s 7ms/step - loss: 26761028960256.0000 - mae: 4781390.0000 - val_loss: 25036798820352.0000 - val_mae: 4733838.0000\n",
            "Epoch 26/100\n",
            "11/11 [==============================] - 0s 7ms/step - loss: 26753330315264.0000 - mae: 4780584.5000 - val_loss: 25028565401600.0000 - val_mae: 4732983.5000\n",
            "Epoch 27/100\n",
            "11/11 [==============================] - 0s 6ms/step - loss: 26744788615168.0000 - mae: 4779702.0000 - val_loss: 25019679768576.0000 - val_mae: 4732061.0000\n",
            "Epoch 28/100\n",
            "11/11 [==============================] - 0s 6ms/step - loss: 26735393374208.0000 - mae: 4778753.0000 - val_loss: 25010190155776.0000 - val_mae: 4731075.5000\n",
            "Epoch 29/100\n",
            "11/11 [==============================] - 0s 6ms/step - loss: 26725461262336.0000 - mae: 4777731.5000 - val_loss: 24999857487872.0000 - val_mae: 4730002.5000\n",
            "Epoch 30/100\n",
            "11/11 [==============================] - 0s 7ms/step - loss: 26714663026688.0000 - mae: 4776625.0000 - val_loss: 24988763553792.0000 - val_mae: 4728850.0000\n",
            "Epoch 31/100\n",
            "11/11 [==============================] - 0s 6ms/step - loss: 26703028027392.0000 - mae: 4775440.0000 - val_loss: 24976916742144.0000 - val_mae: 4727619.0000\n",
            "Epoch 32/100\n",
            "11/11 [==============================] - 0s 7ms/step - loss: 26690839379968.0000 - mae: 4774164.5000 - val_loss: 24964057006080.0000 - val_mae: 4726282.0000\n",
            "Epoch 33/100\n",
            "11/11 [==============================] - 0s 7ms/step - loss: 26677411315712.0000 - mae: 4772802.5000 - val_loss: 24950532472832.0000 - val_mae: 4724876.5000\n",
            "Epoch 34/100\n",
            "11/11 [==============================] - 0s 7ms/step - loss: 26663379271680.0000 - mae: 4771353.5000 - val_loss: 24936062124032.0000 - val_mae: 4723371.0000\n",
            "Epoch 35/100\n",
            "11/11 [==============================] - 0s 8ms/step - loss: 26648325914624.0000 - mae: 4769812.0000 - val_loss: 24920736137216.0000 - val_mae: 4721776.5000\n",
            "Epoch 36/100\n",
            "11/11 [==============================] - 0s 6ms/step - loss: 26632423211008.0000 - mae: 4768178.0000 - val_loss: 24904466432000.0000 - val_mae: 4720083.0000\n",
            "Epoch 37/100\n",
            "11/11 [==============================] - 0s 8ms/step - loss: 26615671160832.0000 - mae: 4766438.5000 - val_loss: 24887135567872.0000 - val_mae: 4718279.0000\n",
            "Epoch 38/100\n",
            "11/11 [==============================] - 0s 6ms/step - loss: 26597755191296.0000 - mae: 4764600.5000 - val_loss: 24868949065728.0000 - val_mae: 4716385.0000\n",
            "Epoch 39/100\n",
            "11/11 [==============================] - 0s 6ms/step - loss: 26578794840064.0000 - mae: 4762670.5000 - val_loss: 24849948868608.0000 - val_mae: 4714405.0000\n",
            "Epoch 40/100\n",
            "11/11 [==============================] - 0s 6ms/step - loss: 26559041765376.0000 - mae: 4760642.5000 - val_loss: 24829837180928.0000 - val_mae: 4712308.5000\n",
            "Epoch 41/100\n",
            "11/11 [==============================] - 0s 8ms/step - loss: 26538217046016.0000 - mae: 4758499.5000 - val_loss: 24808639168512.0000 - val_mae: 4710098.0000\n",
            "Epoch 42/100\n",
            "11/11 [==============================] - 0s 7ms/step - loss: 26516314390528.0000 - mae: 4756240.0000 - val_loss: 24786354831360.0000 - val_mae: 4707773.0000\n",
            "Epoch 43/100\n",
            "11/11 [==============================] - 0s 6ms/step - loss: 26493499473920.0000 - mae: 4753866.5000 - val_loss: 24762849951744.0000 - val_mae: 4705320.0000\n",
            "Epoch 44/100\n",
            "11/11 [==============================] - 0s 6ms/step - loss: 26469092818944.0000 - mae: 4751387.0000 - val_loss: 24738617360384.0000 - val_mae: 4702789.0000\n",
            "Epoch 45/100\n",
            "11/11 [==============================] - 0s 5ms/step - loss: 26444407242752.0000 - mae: 4748783.0000 - val_loss: 24712864333824.0000 - val_mae: 4700099.0000\n",
            "Epoch 46/100\n",
            "11/11 [==============================] - 0s 7ms/step - loss: 26417951670272.0000 - mae: 4746067.0000 - val_loss: 24686215823360.0000 - val_mae: 4697312.5000\n",
            "Epoch 47/100\n",
            "11/11 [==============================] - 0s 7ms/step - loss: 26390376218624.0000 - mae: 4743234.0000 - val_loss: 24658640371712.0000 - val_mae: 4694427.0000\n",
            "Epoch 48/100\n",
            "11/11 [==============================] - 0s 7ms/step - loss: 26361706053632.0000 - mae: 4740303.0000 - val_loss: 24629936652288.0000 - val_mae: 4691422.0000\n",
            "Epoch 49/100\n",
            "11/11 [==============================] - 0s 5ms/step - loss: 26332299788288.0000 - mae: 4737231.0000 - val_loss: 24599655874560.0000 - val_mae: 4688250.0000\n",
            "Epoch 50/100\n",
            "11/11 [==============================] - 0s 6ms/step - loss: 26301121429504.0000 - mae: 4734022.0000 - val_loss: 24568399921152.0000 - val_mae: 4684974.5000\n",
            "Epoch 51/100\n",
            "11/11 [==============================] - 0s 6ms/step - loss: 26268938534912.0000 - mae: 4730692.0000 - val_loss: 24535919230976.0000 - val_mae: 4681567.5000\n",
            "Epoch 52/100\n",
            "11/11 [==============================] - 0s 6ms/step - loss: 26235709161472.0000 - mae: 4727231.5000 - val_loss: 24502058614784.0000 - val_mae: 4678013.0000\n",
            "Epoch 53/100\n",
            "11/11 [==============================] - 0s 8ms/step - loss: 26200932089856.0000 - mae: 4723627.0000 - val_loss: 24467117965312.0000 - val_mae: 4674343.0000\n",
            "Epoch 54/100\n",
            "11/11 [==============================] - 0s 7ms/step - loss: 26164909309952.0000 - mae: 4719920.0000 - val_loss: 24431061630976.0000 - val_mae: 4670552.0000\n",
            "Epoch 55/100\n",
            "11/11 [==============================] - 0s 6ms/step - loss: 26127995240448.0000 - mae: 4716071.5000 - val_loss: 24393537290240.0000 - val_mae: 4666603.5000\n",
            "Epoch 56/100\n",
            "11/11 [==============================] - 0s 6ms/step - loss: 26089502015488.0000 - mae: 4712078.5000 - val_loss: 24354838544384.0000 - val_mae: 4662528.5000\n",
            "Epoch 57/100\n",
            "11/11 [==============================] - 0s 7ms/step - loss: 26049840676864.0000 - mae: 4707943.5000 - val_loss: 24314858438656.0000 - val_mae: 4658314.0000\n",
            "Epoch 58/100\n",
            "11/11 [==============================] - 0s 7ms/step - loss: 26008809897984.0000 - mae: 4703673.0000 - val_loss: 24273588584448.0000 - val_mae: 4653960.5000\n",
            "Epoch 59/100\n",
            "11/11 [==============================] - 0s 6ms/step - loss: 25966585839616.0000 - mae: 4699254.5000 - val_loss: 24230896861184.0000 - val_mae: 4649453.0000\n",
            "Epoch 60/100\n",
            "11/11 [==============================] - 0s 8ms/step - loss: 25922910552064.0000 - mae: 4694704.5000 - val_loss: 24186915389440.0000 - val_mae: 4644804.5000\n",
            "Epoch 61/100\n",
            "11/11 [==============================] - 0s 7ms/step - loss: 25877448491008.0000 - mae: 4690013.0000 - val_loss: 24141983907840.0000 - val_mae: 4640049.0000\n",
            "Epoch 62/100\n",
            "11/11 [==============================] - 0s 6ms/step - loss: 25831533445120.0000 - mae: 4685172.0000 - val_loss: 24095139823616.0000 - val_mae: 4635087.5000\n",
            "Epoch 63/100\n",
            "11/11 [==============================] - 0s 8ms/step - loss: 25783762419712.0000 - mae: 4680156.5000 - val_loss: 24046999699456.0000 - val_mae: 4629983.5000\n",
            "Epoch 64/100\n",
            "11/11 [==============================] - 0s 6ms/step - loss: 25734588399616.0000 - mae: 4675007.5000 - val_loss: 23997584506880.0000 - val_mae: 4624739.0000\n",
            "Epoch 65/100\n",
            "11/11 [==============================] - 0s 8ms/step - loss: 25684030259200.0000 - mae: 4669710.0000 - val_loss: 23946879565824.0000 - val_mae: 4619351.0000\n",
            "Epoch 66/100\n",
            "11/11 [==============================] - 0s 7ms/step - loss: 25631683248128.0000 - mae: 4664290.5000 - val_loss: 23895149117440.0000 - val_mae: 4613847.5000\n",
            "Epoch 67/100\n",
            "11/11 [==============================] - 0s 8ms/step - loss: 25578809851904.0000 - mae: 4658702.5000 - val_loss: 23841610924032.0000 - val_mae: 4608145.5000\n",
            "Epoch 68/100\n",
            "11/11 [==============================] - 0s 6ms/step - loss: 25523512147968.0000 - mae: 4652966.5000 - val_loss: 23787198218240.0000 - val_mae: 4602340.5000\n",
            "Epoch 69/100\n",
            "11/11 [==============================] - 0s 8ms/step - loss: 25468252192768.0000 - mae: 4647065.5000 - val_loss: 23730388467712.0000 - val_mae: 4596276.5000\n",
            "Epoch 70/100\n",
            "11/11 [==============================] - 0s 6ms/step - loss: 25410024767488.0000 - mae: 4640974.5000 - val_loss: 23672871976960.0000 - val_mae: 4590125.0000\n",
            "Epoch 71/100\n",
            "11/11 [==============================] - 0s 7ms/step - loss: 25351388397568.0000 - mae: 4634747.0000 - val_loss: 23613530963968.0000 - val_mae: 4583774.5000\n",
            "Epoch 72/100\n",
            "11/11 [==============================] - 0s 6ms/step - loss: 25290810064896.0000 - mae: 4628347.0000 - val_loss: 23552898105344.0000 - val_mae: 4577274.0000\n",
            "Epoch 73/100\n",
            "11/11 [==============================] - 0s 7ms/step - loss: 25228770017280.0000 - mae: 4621795.5000 - val_loss: 23491046801408.0000 - val_mae: 4570632.0000\n",
            "Epoch 74/100\n",
            "11/11 [==============================] - 0s 6ms/step - loss: 25166136475648.0000 - mae: 4615068.0000 - val_loss: 23427219980288.0000 - val_mae: 4563770.5000\n",
            "Epoch 75/100\n",
            "11/11 [==============================] - 0s 7ms/step - loss: 25100749373440.0000 - mae: 4608184.5000 - val_loss: 23362680127488.0000 - val_mae: 4556820.5000\n",
            "Epoch 76/100\n",
            "11/11 [==============================] - 0s 7ms/step - loss: 25035177721856.0000 - mae: 4601135.5000 - val_loss: 23296057802752.0000 - val_mae: 4549636.5000\n",
            "Epoch 77/100\n",
            "11/11 [==============================] - 0s 8ms/step - loss: 24966818955264.0000 - mae: 4593938.5000 - val_loss: 23228758097920.0000 - val_mae: 4542366.5000\n",
            "Epoch 78/100\n",
            "11/11 [==============================] - 0s 6ms/step - loss: 24898208530432.0000 - mae: 4586591.5000 - val_loss: 23159537401856.0000 - val_mae: 4534878.0000\n",
            "Epoch 79/100\n",
            "11/11 [==============================] - 0s 5ms/step - loss: 24827343667200.0000 - mae: 4579071.5000 - val_loss: 23089421221888.0000 - val_mae: 4527278.0000\n",
            "Epoch 80/100\n",
            "11/11 [==============================] - 0s 7ms/step - loss: 24756105510912.0000 - mae: 4571370.5000 - val_loss: 23017130295296.0000 - val_mae: 4519432.5000\n",
            "Epoch 81/100\n",
            "11/11 [==============================] - 0s 7ms/step - loss: 24682776494080.0000 - mae: 4563460.5000 - val_loss: 22943327322112.0000 - val_mae: 4511409.0000\n",
            "Epoch 82/100\n",
            "11/11 [==============================] - 0s 7ms/step - loss: 24607438405632.0000 - mae: 4555402.0000 - val_loss: 22868572241920.0000 - val_mae: 4503267.0000\n",
            "Epoch 83/100\n",
            "11/11 [==============================] - 0s 6ms/step - loss: 24531353731072.0000 - mae: 4547196.5000 - val_loss: 22792258977792.0000 - val_mae: 4494939.5000\n",
            "Epoch 84/100\n",
            "11/11 [==============================] - 0s 6ms/step - loss: 24453033492480.0000 - mae: 4538839.0000 - val_loss: 22715123630080.0000 - val_mae: 4486505.0000\n",
            "Epoch 85/100\n",
            "11/11 [==============================] - 0s 9ms/step - loss: 24373813575680.0000 - mae: 4530347.5000 - val_loss: 22636530761728.0000 - val_mae: 4477894.0000\n",
            "Epoch 86/100\n",
            "11/11 [==============================] - 0s 7ms/step - loss: 24294075662336.0000 - mae: 4521632.5000 - val_loss: 22555465351168.0000 - val_mae: 4468998.0000\n",
            "Epoch 87/100\n",
            "11/11 [==============================] - 0s 8ms/step - loss: 24211877789696.0000 - mae: 4512694.5000 - val_loss: 22473242312704.0000 - val_mae: 4459957.5000\n",
            "Epoch 88/100\n",
            "11/11 [==============================] - 0s 7ms/step - loss: 24127937183744.0000 - mae: 4503618.5000 - val_loss: 22390132178944.0000 - val_mae: 4450800.5000\n",
            "Epoch 89/100\n",
            "11/11 [==============================] - 0s 6ms/step - loss: 24042731995136.0000 - mae: 4494402.0000 - val_loss: 22305877000192.0000 - val_mae: 4441498.0000\n",
            "Epoch 90/100\n",
            "11/11 [==============================] - 0s 7ms/step - loss: 23957184970752.0000 - mae: 4484991.0000 - val_loss: 22219176542208.0000 - val_mae: 4431906.0000\n",
            "Epoch 91/100\n",
            "11/11 [==============================] - 0s 8ms/step - loss: 23868982951936.0000 - mae: 4475380.0000 - val_loss: 22131310067712.0000 - val_mae: 4422164.5000\n",
            "Epoch 92/100\n",
            "11/11 [==============================] - 0s 7ms/step - loss: 23779419881472.0000 - mae: 4465587.0000 - val_loss: 22042401308672.0000 - val_mae: 4412283.5000\n",
            "Epoch 93/100\n",
            "11/11 [==============================] - 0s 8ms/step - loss: 23688363638784.0000 - mae: 4455664.0000 - val_loss: 21952376864768.0000 - val_mae: 4402256.5000\n",
            "Epoch 94/100\n",
            "11/11 [==============================] - 0s 7ms/step - loss: 23597133332480.0000 - mae: 4445535.5000 - val_loss: 21860011999232.0000 - val_mae: 4391948.5000\n",
            "Epoch 95/100\n",
            "11/11 [==============================] - 0s 6ms/step - loss: 23502679703552.0000 - mae: 4435217.5000 - val_loss: 21767127040000.0000 - val_mae: 4381556.5000\n",
            "Epoch 96/100\n",
            "11/11 [==============================] - 0s 6ms/step - loss: 23408091856896.0000 - mae: 4424732.5000 - val_loss: 21672371421184.0000 - val_mae: 4370931.5000\n",
            "Epoch 97/100\n",
            "11/11 [==============================] - 0s 7ms/step - loss: 23311970992128.0000 - mae: 4414042.5000 - val_loss: 21575841611776.0000 - val_mae: 4360078.5000\n",
            "Epoch 98/100\n",
            "11/11 [==============================] - 0s 7ms/step - loss: 23214029799424.0000 - mae: 4403156.5000 - val_loss: 21478254837760.0000 - val_mae: 4349083.0000\n",
            "Epoch 99/100\n",
            "11/11 [==============================] - 0s 6ms/step - loss: 23114050174976.0000 - mae: 4392158.0000 - val_loss: 21380217176064.0000 - val_mae: 4338004.5000\n",
            "Epoch 100/100\n",
            "11/11 [==============================] - 0s 7ms/step - loss: 23014729056256.0000 - mae: 4380951.0000 - val_loss: 21279736332288.0000 - val_mae: 4326626.0000\n"
          ]
        }
      ]
    },
    {
      "cell_type": "code",
      "source": [
        "test_loss, test_mae = model.evaluate(X_test_scaled, y_test)\n",
        "print('Test loss:', test_loss)\n",
        "print('Test MAE:', test_mae)"
      ],
      "metadata": {
        "colab": {
          "base_uri": "https://localhost:8080/"
        },
        "id": "5NT_pTFKoGdl",
        "outputId": "3f3f2ab2-5840-4e54-ba32-b4860fd79184"
      },
      "execution_count": 20,
      "outputs": [
        {
          "output_type": "stream",
          "name": "stdout",
          "text": [
            "4/4 [==============================] - 0s 29ms/step - loss: 21400544870400.0000 - mae: 4312461.0000\n",
            "Test loss: 21400544870400.0\n",
            "Test MAE: 4312461.0\n"
          ]
        }
      ]
    },
    {
      "cell_type": "code",
      "source": [
        "y_pred = model.predict(X_test)\n",
        "print(\"Predictions on Testing Set:\", y_pred[:10])"
      ],
      "metadata": {
        "colab": {
          "base_uri": "https://localhost:8080/"
        },
        "id": "tgAKSskpoK0N",
        "outputId": "2227c679-e39c-4201-d773-ab1747c49086"
      },
      "execution_count": 21,
      "outputs": [
        {
          "output_type": "stream",
          "name": "stdout",
          "text": [
            "4/4 [==============================] - 0s 3ms/step\n",
            "Predictions on Testing Set: [[205017.22]\n",
            " [314481.2 ]\n",
            " [192169.1 ]\n",
            " [389364.16]\n",
            " [199043.11]\n",
            " [333269.03]\n",
            " [195969.98]\n",
            " [181392.9 ]\n",
            " [ 73552.33]\n",
            " [604947.8 ]]\n"
          ]
        }
      ]
    },
    {
      "cell_type": "code",
      "source": [
        "y_pred = model.predict(X_test)\n",
        "import matplotlib.pyplot as plt\n",
        "\n",
        "plt.scatter(y_test, y_pred)\n",
        "plt.xlabel(\"Actual Price\")\n",
        "plt.ylabel(\"Predicted Price\")\n",
        "plt.title(\"Actual vs Predicted House Prices\")\n",
        "plt.show()"
      ],
      "metadata": {
        "colab": {
          "base_uri": "https://localhost:8080/",
          "height": 489
        },
        "id": "c-RMTiAMoQPM",
        "outputId": "8fee5f1a-0072-4c05-be9d-a86ec431b077"
      },
      "execution_count": 22,
      "outputs": [
        {
          "output_type": "stream",
          "name": "stdout",
          "text": [
            "4/4 [==============================] - 0s 4ms/step\n"
          ]
        },
        {
          "output_type": "display_data",
          "data": {
            "text/plain": [
              "<Figure size 640x480 with 1 Axes>"
            ],
            "image/png": "[encoded data removed]"
          },
          "metadata": {}
        }
      ]
    },
    {
      "cell_type": "code",
      "source": [
        "new_data = np.array([[5.0, 15, 10000, 1, 0, 1, 0, 1, 0, 1, 0, 0, 1,0.2,0.2,0,1,1,1,1]])\n",
        "new_data_scaled = scaler.transform(new_data)\n",
        "price = model.predict(new_data_scaled)\n",
        "print('Predicted price:', price[0][0])"
      ],
      "metadata": {
        "colab": {
          "base_uri": "https://localhost:8080/"
        },
        "id": "abZ5i9UaoT5E",
        "outputId": "a8783dba-e3d4-4b30-b237-80425be8ec19"
      },
      "execution_count": 23,
      "outputs": [
        {
          "output_type": "stream",
          "name": "stdout",
          "text": [
            "1/1 [==============================] - 0s 78ms/step\n",
            "Predicted price: 453846980.0\n"
          ]
        }
      ]
    }
  ]
}