{
  "nbformat": 4,
  "nbformat_minor": 0,
  "metadata": {
    "colab": {
      "provenance": [],
      "authorship_tag": "ABX9TyOqW+eiI+PxA0ut+5PW8UJS",
      "include_colab_link": true
    },
    "kernelspec": {
      "name": "python3",
      "display_name": "Python 3"
    },
    "language_info": {
      "name": "python"
    }
  },
  "cells": [
    {
      "cell_type": "markdown",
      "metadata": {
        "id": "view-in-github",
        "colab_type": "text"
      },
      "source": [
        "<a href=\"https://colab.research.google.com/github/HoanDiep/BT8_tuan9/blob/main/fashionMnist_homework.ipynb\" target=\"_parent\"><img src=\"https://colab.research.google.com/assets/colab-badge.svg\" alt=\"Open In Colab\"/></a>"
      ]
    },
    {
      "cell_type": "code",
      "execution_count": 1,
      "metadata": {
        "id": "R1b_qEB49Twz"
      },
      "outputs": [],
      "source": [
        "import numpy as np\n",
        "import matplotlib.pyplot as plt\n",
        "import pandas as pd\n",
        "import seaborn as sns\n",
        "from keras.callbacks import ModelCheckpoint\n",
        "from keras.datasets import fashion_mnist\n",
        "from keras.layers.core import Dense, Dropout, Activation\n",
        "from keras.models import Sequential\n",
        "from keras.utils import np_utils"
      ]
    },
    {
      "cell_type": "code",
      "source": [
        "(X_train, y_train), (X_test, y_test) = fashion_mnist.load_data()\n",
        "X_train.shape\n"
      ],
      "metadata": {
        "colab": {
          "base_uri": "https://localhost:8080/"
        },
        "id": "RPeHL7BY9aA9",
        "outputId": "c6409658-8960-41f0-d3bf-df42f6ee714b"
      },
      "execution_count": 3,
      "outputs": [
        {
          "output_type": "execute_result",
          "data": {
            "text/plain": [
              "(60000, 28, 28)"
            ]
          },
          "metadata": {},
          "execution_count": 3
        }
      ]
    },
    {
      "cell_type": "code",
      "source": [
        "y_train.shape"
      ],
      "metadata": {
        "colab": {
          "base_uri": "https://localhost:8080/"
        },
        "id": "hvqck_Qh9h8r",
        "outputId": "f50259fa-31ed-4ea8-bed8-3a003b3815d7"
      },
      "execution_count": 4,
      "outputs": [
        {
          "output_type": "execute_result",
          "data": {
            "text/plain": [
              "(60000,)"
            ]
          },
          "metadata": {},
          "execution_count": 4
        }
      ]
    },
    {
      "cell_type": "code",
      "source": [
        "import matplotlib.pyplot as plt\n",
        "\n",
        "hinh = X_train[50]\n",
        "plt.imshow(hinh, cmap = plt.cm.binary)\n",
        "plt.show"
      ],
      "metadata": {
        "colab": {
          "base_uri": "https://localhost:8080/",
          "height": 447
        },
        "id": "PuzoN4jc9j2S",
        "outputId": "57d851f5-7ff4-4e56-b45a-e1f3e16996ff"
      },
      "execution_count": 5,
      "outputs": [
        {
          "output_type": "execute_result",
          "data": {
            "text/plain": [
              "<function matplotlib.pyplot.show(close=None, block=None)>"
            ]
          },
          "metadata": {},
          "execution_count": 5
        },
        {
          "output_type": "display_data",
          "data": {
            "text/plain": [
              "<Figure size 640x480 with 1 Axes>"
            ],
            "image/png": "[encoded data removed]"
          },
          "metadata": {}
        }
      ]
    },
    {
      "cell_type": "code",
      "source": [
        "X_train = X_train.reshape(X_train.shape[0], 784)\n",
        "print(X_train.shape[0])\n",
        "X_test = X_test.reshape(X_test.shape[0], 784)\n",
        "print(X_test.shape[0])\n",
        "X_train = X_train.astype('float32')\n",
        "X_test = X_test.astype('float32')\n",
        "\n",
        "print(\"Training matrix shape\", X_train.shape)\n",
        "print(\"Testing matrix shape\", X_test.shape)"
      ],
      "metadata": {
        "colab": {
          "base_uri": "https://localhost:8080/"
        },
        "id": "HDx8mqJP945r",
        "outputId": "b6820684-3e24-4f66-a355-de856397b75e"
      },
      "execution_count": 6,
      "outputs": [
        {
          "output_type": "stream",
          "name": "stdout",
          "text": [
            "60000\n",
            "10000\n",
            "Training matrix shape (60000, 784)\n",
            "Testing matrix shape (10000, 784)\n"
          ]
        }
      ]
    },
    {
      "cell_type": "code",
      "source": [
        "X_train /= 255\n",
        "X_test /= 255"
      ],
      "metadata": {
        "id": "EgPuxfjg96Iz"
      },
      "execution_count": 7,
      "outputs": []
    },
    {
      "cell_type": "code",
      "source": [
        "Y_train = np_utils.to_categorical(y_train, 10)\n",
        "Y_test = np_utils.to_categorical(y_test, 10)"
      ],
      "metadata": {
        "id": "aQdzkfLo-CXD"
      },
      "execution_count": 8,
      "outputs": []
    },
    {
      "cell_type": "code",
      "source": [
        "model = Sequential() # Khai báo mô hình tuần tự \n",
        "model.add(Dense(512, input_shape=(784,))) \n",
        "                                       \n",
        "model.add(Activation('relu'))\n",
        "model.add(Dropout(0.2)) \n",
        "model.add(Dense(512)) \n",
        "model.add(Activation('relu'))\n",
        "model.add(Dropout(0.2))\n",
        "model.add(Dense(10))\n",
        "model.add(Activation('softmax')) "
      ],
      "metadata": {
        "id": "xLm2BzGV-H_m"
      },
      "execution_count": 9,
      "outputs": []
    },
    {
      "cell_type": "code",
      "source": [
        "model.compile(loss='categorical_crossentropy', optimizer='adam', metrics=['accuracy'])"
      ],
      "metadata": {
        "id": "4OegUPo9-P5K"
      },
      "execution_count": 10,
      "outputs": []
    },
    {
      "cell_type": "code",
      "source": [
        "\n",
        "filepath=\"mlp-weights.{epoch:02d}-{val_loss:.2f}.hdf5\"\n",
        "checkpoint = ModelCheckpoint(filepath, monitor='val_acc', verbose=1, save_best_only=True, mode='max')\n",
        "\n",
        "history = model.fit(X_train, Y_train,batch_size=128, epochs=25,verbose=1,validation_data=(X_test,Y_test))\n"
      ],
      "metadata": {
        "colab": {
          "base_uri": "https://localhost:8080/"
        },
        "id": "EjqLnJxU-TUs",
        "outputId": "eb8c1ad2-6837-4477-e9ca-e7e346550b67"
      },
      "execution_count": 12,
      "outputs": [
        {
          "output_type": "stream",
          "name": "stdout",
          "text": [
            "Epoch 1/25\n",
            "469/469 [==============================] - 9s 19ms/step - loss: 0.3893 - accuracy: 0.8572 - val_loss: 0.3653 - val_accuracy: 0.8653\n",
            "Epoch 2/25\n",
            "469/469 [==============================] - 10s 20ms/step - loss: 0.3521 - accuracy: 0.8703 - val_loss: 0.3591 - val_accuracy: 0.8697\n",
            "Epoch 3/25\n",
            "469/469 [==============================] - 7s 16ms/step - loss: 0.3272 - accuracy: 0.8784 - val_loss: 0.3681 - val_accuracy: 0.8657\n",
            "Epoch 4/25\n",
            "469/469 [==============================] - 8s 18ms/step - loss: 0.3126 - accuracy: 0.8830 - val_loss: 0.3497 - val_accuracy: 0.8698\n",
            "Epoch 5/25\n",
            "469/469 [==============================] - 8s 17ms/step - loss: 0.2978 - accuracy: 0.8897 - val_loss: 0.3328 - val_accuracy: 0.8774\n",
            "Epoch 6/25\n",
            "469/469 [==============================] - 8s 16ms/step - loss: 0.2877 - accuracy: 0.8921 - val_loss: 0.3273 - val_accuracy: 0.8820\n",
            "Epoch 7/25\n",
            "469/469 [==============================] - 8s 18ms/step - loss: 0.2778 - accuracy: 0.8960 - val_loss: 0.3390 - val_accuracy: 0.8737\n",
            "Epoch 8/25\n",
            "469/469 [==============================] - 8s 18ms/step - loss: 0.2695 - accuracy: 0.8985 - val_loss: 0.3469 - val_accuracy: 0.8750\n",
            "Epoch 9/25\n",
            "469/469 [==============================] - 8s 16ms/step - loss: 0.2614 - accuracy: 0.9016 - val_loss: 0.3474 - val_accuracy: 0.8736\n",
            "Epoch 10/25\n",
            "469/469 [==============================] - 10s 21ms/step - loss: 0.2547 - accuracy: 0.9029 - val_loss: 0.3455 - val_accuracy: 0.8780\n",
            "Epoch 11/25\n",
            "469/469 [==============================] - 8s 18ms/step - loss: 0.2450 - accuracy: 0.9081 - val_loss: 0.3101 - val_accuracy: 0.8901\n",
            "Epoch 12/25\n",
            "469/469 [==============================] - 8s 17ms/step - loss: 0.2444 - accuracy: 0.9071 - val_loss: 0.3097 - val_accuracy: 0.8901\n",
            "Epoch 13/25\n",
            "469/469 [==============================] - 8s 18ms/step - loss: 0.2371 - accuracy: 0.9098 - val_loss: 0.3118 - val_accuracy: 0.8913\n",
            "Epoch 14/25\n",
            "469/469 [==============================] - 8s 18ms/step - loss: 0.2322 - accuracy: 0.9119 - val_loss: 0.3073 - val_accuracy: 0.8913\n",
            "Epoch 15/25\n",
            "469/469 [==============================] - 7s 16ms/step - loss: 0.2270 - accuracy: 0.9143 - val_loss: 0.3090 - val_accuracy: 0.8924\n",
            "Epoch 16/25\n",
            "469/469 [==============================] - 8s 17ms/step - loss: 0.2202 - accuracy: 0.9165 - val_loss: 0.3123 - val_accuracy: 0.8869\n",
            "Epoch 17/25\n",
            "469/469 [==============================] - 8s 18ms/step - loss: 0.2156 - accuracy: 0.9159 - val_loss: 0.3088 - val_accuracy: 0.8950\n",
            "Epoch 18/25\n",
            "469/469 [==============================] - 7s 16ms/step - loss: 0.2112 - accuracy: 0.9193 - val_loss: 0.3204 - val_accuracy: 0.8900\n",
            "Epoch 19/25\n",
            "469/469 [==============================] - 8s 18ms/step - loss: 0.2072 - accuracy: 0.9213 - val_loss: 0.3234 - val_accuracy: 0.8939\n",
            "Epoch 20/25\n",
            "469/469 [==============================] - 8s 18ms/step - loss: 0.2033 - accuracy: 0.9213 - val_loss: 0.3190 - val_accuracy: 0.8915\n",
            "Epoch 21/25\n",
            "469/469 [==============================] - 7s 16ms/step - loss: 0.1993 - accuracy: 0.9231 - val_loss: 0.3075 - val_accuracy: 0.8940\n",
            "Epoch 22/25\n",
            "469/469 [==============================] - 8s 17ms/step - loss: 0.1933 - accuracy: 0.9254 - val_loss: 0.3092 - val_accuracy: 0.8940\n",
            "Epoch 23/25\n",
            "469/469 [==============================] - 8s 18ms/step - loss: 0.1946 - accuracy: 0.9240 - val_loss: 0.3173 - val_accuracy: 0.8969\n",
            "Epoch 24/25\n",
            "469/469 [==============================] - 7s 16ms/step - loss: 0.1878 - accuracy: 0.9282 - val_loss: 0.3170 - val_accuracy: 0.8918\n",
            "Epoch 25/25\n",
            "469/469 [==============================] - 8s 18ms/step - loss: 0.1866 - accuracy: 0.9288 - val_loss: 0.3174 - val_accuracy: 0.8957\n"
          ]
        }
      ]
    },
    {
      "cell_type": "code",
      "source": [
        "test_loss, test_acc = model.evaluate(X_test, Y_test)\n",
        "print('test_accuracy',test_acc)\n",
        "print('test_loss:',test_loss)"
      ],
      "metadata": {
        "colab": {
          "base_uri": "https://localhost:8080/"
        },
        "id": "7KMGJ4qZ_mPy",
        "outputId": "09652134-8523-4dea-bd80-f38abcc0753e"
      },
      "execution_count": 13,
      "outputs": [
        {
          "output_type": "stream",
          "name": "stdout",
          "text": [
            "313/313 [==============================] - 1s 4ms/step - loss: 0.3174 - accuracy: 0.8957\n",
            "test_accuracy 0.8956999778747559\n",
            "test_loss: 0.3174291253089905\n"
          ]
        }
      ]
    }
  ]
}