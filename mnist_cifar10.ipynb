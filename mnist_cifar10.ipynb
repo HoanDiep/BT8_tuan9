{
  "nbformat": 4,
  "nbformat_minor": 0,
  "metadata": {
    "colab": {
      "provenance": [],
      "authorship_tag": "ABX9TyNicdFcXnua17MVAhPC54aN",
      "include_colab_link": true
    },
    "kernelspec": {
      "name": "python3",
      "display_name": "Python 3"
    },
    "language_info": {
      "name": "python"
    }
  },
  "cells": [
    {
      "cell_type": "markdown",
      "metadata": {
        "id": "view-in-github",
        "colab_type": "text"
      },
      "source": [
        "<a href=\"https://colab.research.google.com/github/HoanDiep/BT8_tuan9/blob/main/mnist_cifar10.ipynb\" target=\"_parent\"><img src=\"https://colab.research.google.com/assets/colab-badge.svg\" alt=\"Open In Colab\"/></a>"
      ]
    },
    {
      "cell_type": "code",
      "execution_count": 46,
      "metadata": {
        "id": "urnh5DBtzlL9"
      },
      "outputs": [],
      "source": [
        "from keras.datasets import mnist\n",
        "(train_images,train_labels),(test_images,test_labels)=mnist.load_data()"
      ]
    },
    {
      "cell_type": "code",
      "source": [
        "train_images.shape"
      ],
      "metadata": {
        "colab": {
          "base_uri": "https://localhost:8080/"
        },
        "id": "-shwLfPc0Xn7",
        "outputId": "ac9c0198-e01d-41ce-bbfd-92048f030aec"
      },
      "execution_count": 47,
      "outputs": [
        {
          "output_type": "execute_result",
          "data": {
            "text/plain": [
              "(60000, 28, 28)"
            ]
          },
          "metadata": {},
          "execution_count": 47
        }
      ]
    },
    {
      "cell_type": "code",
      "source": [
        "test_images.shape"
      ],
      "metadata": {
        "colab": {
          "base_uri": "https://localhost:8080/"
        },
        "id": "m6Hrv7QW0f2i",
        "outputId": "fb589c84-254d-4ecb-fe54-d58adfc1eec6"
      },
      "execution_count": 48,
      "outputs": [
        {
          "output_type": "execute_result",
          "data": {
            "text/plain": [
              "(10000, 28, 28)"
            ]
          },
          "metadata": {},
          "execution_count": 48
        }
      ]
    },
    {
      "cell_type": "code",
      "source": [
        "import matplotlib.pyplot as plt\n",
        "hinh = train_images[5000]\n",
        "plt.imshow(hinh,cmap=plt.cm.binary)\n",
        "plt.show()\n",
        "print('so nay la',train_labels[5000])"
      ],
      "metadata": {
        "colab": {
          "base_uri": "https://localhost:8080/",
          "height": 282
        },
        "id": "lRsGIidc0v07",
        "outputId": "d262e7b9-ba19-4dc9-8261-d53f911fe838"
      },
      "execution_count": 49,
      "outputs": [
        {
          "output_type": "display_data",
          "data": {
            "text/plain": [
              "<Figure size 432x288 with 1 Axes>"
            ],
            "image/png": "[encoded data removed]"
          },
          "metadata": {
            "needs_background": "light"
          }
        },
        {
          "output_type": "stream",
          "name": "stdout",
          "text": [
            "so nay la 7\n"
          ]
        }
      ]
    },
    {
      "cell_type": "code",
      "source": [
        "for i in range(10):\n",
        "  plt.subplot(3,5,i+1)\n",
        "  plt.tight_layout()\n",
        "  plt.imshow(train_images[i],cmap='gray',interpolation='none')\n",
        "  plt.title(\"label:{}\".format(train_labels[i]))\n",
        "  plt.xticks([])\n",
        "  plt.yticks([])\n",
        "plt.show()"
      ],
      "metadata": {
        "colab": {
          "base_uri": "https://localhost:8080/",
          "height": 196
        },
        "id": "r97wPbFf1cUD",
        "outputId": "400ad46c-d374-4b60-dc79-adda99032bbf"
      },
      "execution_count": 50,
      "outputs": [
        {
          "output_type": "display_data",
          "data": {
            "text/plain": [
              "<Figure size 432x288 with 10 Axes>"
            ],
            "image/png": "[encoded data removed]"
          },
          "metadata": {}
        }
      ]
    },
    {
      "cell_type": "code",
      "source": [
        "from keras.models import Sequential\n",
        "from keras.layers import Dense"
      ],
      "metadata": {
        "id": "OycsiJMk3JCb"
      },
      "execution_count": 51,
      "outputs": []
    },
    {
      "cell_type": "code",
      "source": [
        "model1=Sequential()\n",
        "model1.add(Dense(512,activation ='relu',input_shape=(28*28,)))\n",
        "model1.add(Dense(10,activation='softmax'))\n",
        "\n",
        "model1.summary()"
      ],
      "metadata": {
        "colab": {
          "base_uri": "https://localhost:8080/"
        },
        "id": "ni8pKlGD3lf4",
        "outputId": "b3a44d05-137c-4280-93b0-4984b0d86ab0"
      },
      "execution_count": 52,
      "outputs": [
        {
          "output_type": "stream",
          "name": "stdout",
          "text": [
            "Model: \"sequential_2\"\n",
            "_________________________________________________________________\n",
            " Layer (type)                Output Shape              Param #   \n",
            "=================================================================\n",
            " dense_4 (Dense)             (None, 512)               401920    \n",
            "                                                                 \n",
            " dense_5 (Dense)             (None, 10)                5130      \n",
            "                                                                 \n",
            "=================================================================\n",
            "Total params: 407,050\n",
            "Trainable params: 407,050\n",
            "Non-trainable params: 0\n",
            "_________________________________________________________________\n"
          ]
        }
      ]
    },
    {
      "cell_type": "code",
      "source": [
        "test_images = test_images.reshape((10000,28*28))\n",
        "test_images = test_images.astype('float32')/255"
      ],
      "metadata": {
        "id": "A550hWd25xcI"
      },
      "execution_count": 53,
      "outputs": []
    },
    {
      "cell_type": "code",
      "source": [
        "train_images=train_images.reshape((60000,28*28))\n",
        "train_images=train_images.astype('float32')/255"
      ],
      "metadata": {
        "id": "PJX8Y86a6kEB"
      },
      "execution_count": 54,
      "outputs": []
    },
    {
      "cell_type": "code",
      "source": [
        "from keras.utils import to_categorical\n",
        "train_labels = to_categorical(train_labels,10)\n",
        "test_labels = to_categorical(test_labels,10)"
      ],
      "metadata": {
        "id": "5e0Po9UO6tT2"
      },
      "execution_count": 55,
      "outputs": []
    },
    {
      "cell_type": "code",
      "source": [
        "model1.compile(optimizer='rmsprop',loss='categorical_crossentropy',metrics=['accuracy'])\n",
        "model1.fit(train_images,train_labels,epochs=10,batch_size=28)\n",
        "test_loss,test_acc=model1.evaluate(test_images,test_labels)\n",
        "\n",
        "print('test_acc:',test_acc)\n",
        "print('test_loss:',test_loss)"
      ],
      "metadata": {
        "colab": {
          "base_uri": "https://localhost:8080/"
        },
        "id": "2CIdr-Ol7wPP",
        "outputId": "39a60d80-8a87-4bb5-e142-3682041d1548"
      },
      "execution_count": 56,
      "outputs": [
        {
          "output_type": "stream",
          "name": "stdout",
          "text": [
            "Epoch 1/10\n",
            "2143/2143 [==============================] - 17s 8ms/step - loss: 0.1989 - accuracy: 0.9416\n",
            "Epoch 2/10\n",
            "2143/2143 [==============================] - 15s 7ms/step - loss: 0.0862 - accuracy: 0.9739\n",
            "Epoch 3/10\n",
            "2143/2143 [==============================] - 15s 7ms/step - loss: 0.0617 - accuracy: 0.9819\n",
            "Epoch 4/10\n",
            "2143/2143 [==============================] - 16s 8ms/step - loss: 0.0461 - accuracy: 0.9870\n",
            "Epoch 5/10\n",
            "2143/2143 [==============================] - 15s 7ms/step - loss: 0.0349 - accuracy: 0.9897\n",
            "Epoch 6/10\n",
            "2143/2143 [==============================] - 14s 7ms/step - loss: 0.0275 - accuracy: 0.9917\n",
            "Epoch 7/10\n",
            "2143/2143 [==============================] - 14s 7ms/step - loss: 0.0229 - accuracy: 0.9935\n",
            "Epoch 8/10\n",
            "2143/2143 [==============================] - 14s 7ms/step - loss: 0.0161 - accuracy: 0.9954\n",
            "Epoch 9/10\n",
            "2143/2143 [==============================] - 14s 7ms/step - loss: 0.0134 - accuracy: 0.9961\n",
            "Epoch 10/10\n",
            "2143/2143 [==============================] - 15s 7ms/step - loss: 0.0103 - accuracy: 0.9968\n",
            "313/313 [==============================] - 1s 3ms/step - loss: 0.0841 - accuracy: 0.9819\n",
            "test_acc: 0.9818999767303467\n",
            "test_loss: 0.08413652330636978\n"
          ]
        }
      ]
    },
    {
      "cell_type": "code",
      "source": [
        "model1.save('model1.h5')"
      ],
      "metadata": {
        "id": "92OslmmEpxp6"
      },
      "execution_count": 57,
      "outputs": []
    },
    {
      "cell_type": "code",
      "source": [
        "\n",
        "from keras.models import load_model\n",
        "model1 = load_model('model1.h5')\n"
      ],
      "metadata": {
        "id": "TJDIf1ndpzOa"
      },
      "execution_count": 58,
      "outputs": []
    },
    {
      "cell_type": "code",
      "source": [
        "from keras.utils import load_img\n",
        "import matplotlib.pyplot as plt\n",
        "img0 = load_img('so5.jpg',target_size=(28,28),color_mode='grayscale')\n",
        "plt.imshow(img0)"
      ],
      "metadata": {
        "colab": {
          "base_uri": "https://localhost:8080/",
          "height": 282
        },
        "id": "kjpcZPH2-rms",
        "outputId": "506ac6cb-e145-41a6-bf5a-c2bab5293559"
      },
      "execution_count": 76,
      "outputs": [
        {
          "output_type": "execute_result",
          "data": {
            "text/plain": [
              "<matplotlib.image.AxesImage at 0x7fafb58460d0>"
            ]
          },
          "metadata": {},
          "execution_count": 76
        },
        {
          "output_type": "display_data",
          "data": {
            "text/plain": [
              "<Figure size 432x288 with 1 Axes>"
            ],
            "image/png": "[encoded data removed]"
          },
          "metadata": {
            "needs_background": "light"
          }
        }
      ]
    },
    {
      "cell_type": "code",
      "source": [
        "#model1 = load_model('model1.h5')\n",
        "\n",
        "import numpy as np\n",
        "\n",
        "img0 = np.array(img0)\n",
        "img0.shape\n",
        "img0 = img0.reshape(1,28*28)\n",
        "img0 = img0.astype('float32') / 255\n",
        "predicted_label = model1.predict(img0).argmax()\n",
        "print(\"Predicted label is {}\".format(predicted_label))\n",
        "\n"
      ],
      "metadata": {
        "id": "7qdEbByTCHA3",
        "colab": {
          "base_uri": "https://localhost:8080/"
        },
        "outputId": "b5092fab-bccb-46a3-e45e-28dae93832e4"
      },
      "execution_count": 78,
      "outputs": [
        {
          "output_type": "stream",
          "name": "stdout",
          "text": [
            "1/1 [==============================] - 0s 27ms/step\n",
            "Predicted label is 5\n"
          ]
        }
      ]
    },
    {
      "cell_type": "code",
      "source": [
        "####################################################################"
      ],
      "metadata": {
        "id": "wMFP6NLxDqUg"
      },
      "execution_count": null,
      "outputs": []
    },
    {
      "cell_type": "code",
      "source": [
        "from keras.datasets import cifar10\n",
        "from keras.models import Sequential\n",
        "import matplotlib.pyplot as plt\n",
        "\n",
        "(x_trains, y_trains) ,(x_test, y_test) = cifar10.load_data()\n",
        "\n",
        "print(len(x_trains))\n"
      ],
      "metadata": {
        "colab": {
          "base_uri": "https://localhost:8080/"
        },
        "id": "r4rdM3YGEKDY",
        "outputId": "ccbefae8-f5d4-43ff-ea87-6647b70921e5"
      },
      "execution_count": null,
      "outputs": [
        {
          "output_type": "stream",
          "name": "stdout",
          "text": [
            "50000\n"
          ]
        }
      ]
    },
    {
      "cell_type": "code",
      "source": [
        "x_trains.shape"
      ],
      "metadata": {
        "colab": {
          "base_uri": "https://localhost:8080/"
        },
        "id": "2KdLDEHdFiH2",
        "outputId": "0c130cab-15f1-4391-af29-965e4ada8a41"
      },
      "execution_count": null,
      "outputs": [
        {
          "output_type": "execute_result",
          "data": {
            "text/plain": [
              "(50000, 32, 32, 3)"
            ]
          },
          "metadata": {},
          "execution_count": 22
        }
      ]
    },
    {
      "cell_type": "code",
      "source": [
        "y_trains.shape"
      ],
      "metadata": {
        "colab": {
          "base_uri": "https://localhost:8080/"
        },
        "id": "6CSjOvB8F6Kl",
        "outputId": "823a3b57-df65-4507-df01-6c3e0da4373b"
      },
      "execution_count": null,
      "outputs": [
        {
          "output_type": "execute_result",
          "data": {
            "text/plain": [
              "(50000, 1)"
            ]
          },
          "metadata": {},
          "execution_count": 23
        }
      ]
    },
    {
      "cell_type": "code",
      "source": [
        "x_test.shape"
      ],
      "metadata": {
        "colab": {
          "base_uri": "https://localhost:8080/"
        },
        "id": "WUdKueubHTXb",
        "outputId": "96c4f48c-6266-435f-8e4e-360539104578"
      },
      "execution_count": null,
      "outputs": [
        {
          "output_type": "execute_result",
          "data": {
            "text/plain": [
              "(10000, 32, 32, 3)"
            ]
          },
          "metadata": {},
          "execution_count": 24
        }
      ]
    },
    {
      "cell_type": "code",
      "source": [
        "\n",
        "from keras.layers import Dense\n",
        "\n",
        "model=Sequential()\n",
        "model.add(Dense(512,input_shape=(32*32*3,),activation='relu'))\n",
        "model.add(Dense(256,activation='relu'))\n",
        "model.add(Dense(128,activation='relu'))\n",
        "model.add(Dense(10,activation='softmax'))\n",
        "model.summary()\n",
        "\n",
        "\n"
      ],
      "metadata": {
        "colab": {
          "base_uri": "https://localhost:8080/"
        },
        "id": "MYVtqsHiFDYS",
        "outputId": "6eedf7e1-9df4-44a0-aaa7-6ebd24532ceb"
      },
      "execution_count": null,
      "outputs": [
        {
          "output_type": "stream",
          "name": "stdout",
          "text": [
            "Model: \"sequential_1\"\n",
            "_________________________________________________________________\n",
            " Layer (type)                Output Shape              Param #   \n",
            "=================================================================\n",
            " dense_4 (Dense)             (None, 512)               1573376   \n",
            "                                                                 \n",
            " dense_5 (Dense)             (None, 256)               131328    \n",
            "                                                                 \n",
            " dense_6 (Dense)             (None, 128)               32896     \n",
            "                                                                 \n",
            " dense_7 (Dense)             (None, 10)                1290      \n",
            "                                                                 \n",
            "=================================================================\n",
            "Total params: 1,738,890\n",
            "Trainable params: 1,738,890\n",
            "Non-trainable params: 0\n",
            "_________________________________________________________________\n"
          ]
        }
      ]
    },
    {
      "cell_type": "code",
      "source": [
        "x_trains = x_trains.reshape((50000,32*32*3))\n",
        "x_trains = x_trains.astype('float32')/255"
      ],
      "metadata": {
        "id": "IukyZ7v5Gn7V"
      },
      "execution_count": null,
      "outputs": []
    },
    {
      "cell_type": "code",
      "source": [
        "x_test = x_test.reshape((10000,32*32*3))\n",
        "x_test = x_test.astype('float32')/255"
      ],
      "metadata": {
        "id": "_sP-_lmaHKNv"
      },
      "execution_count": null,
      "outputs": []
    },
    {
      "cell_type": "code",
      "source": [
        "from keras.utils import to_categorical\n",
        "y_trains = to_categorical(y_trains)\n",
        "y_test = to_categorical(y_test)"
      ],
      "metadata": {
        "id": "dEngGgJhHcP2"
      },
      "execution_count": null,
      "outputs": []
    },
    {
      "cell_type": "code",
      "source": [
        "model.compile(optimizer='adam',loss='categorical_crossentropy',metrics=['accuracy'])\n",
        "model.fit(x_trains,y_trains,epochs=10,batch_size=32)\n",
        "test_loss,test_acc=model.evaluate(x_test,y_test)\n",
        "\n",
        "print('test_acc:',test_acc)\n",
        "print('test_loss:',test_loss)"
      ],
      "metadata": {
        "colab": {
          "base_uri": "https://localhost:8080/"
        },
        "id": "_FVSJjxyHncc",
        "outputId": "4b314712-c75b-443e-ad75-528bfcb4703f"
      },
      "execution_count": null,
      "outputs": [
        {
          "output_type": "stream",
          "name": "stdout",
          "text": [
            "Epoch 1/10\n",
            "1563/1563 [==============================] - 41s 25ms/step - loss: 1.8639 - accuracy: 0.3227\n",
            "Epoch 2/10\n",
            "1563/1563 [==============================] - 38s 25ms/step - loss: 1.6775 - accuracy: 0.3963\n",
            "Epoch 3/10\n",
            "1563/1563 [==============================] - 41s 26ms/step - loss: 1.5943 - accuracy: 0.4287\n",
            "Epoch 4/10\n",
            "1563/1563 [==============================] - 38s 24ms/step - loss: 1.5382 - accuracy: 0.4485\n",
            "Epoch 5/10\n",
            "1563/1563 [==============================] - 38s 24ms/step - loss: 1.4981 - accuracy: 0.4617\n",
            "Epoch 6/10\n",
            "1563/1563 [==============================] - 38s 24ms/step - loss: 1.4711 - accuracy: 0.4715\n",
            "Epoch 7/10\n",
            "1563/1563 [==============================] - 38s 24ms/step - loss: 1.4424 - accuracy: 0.4836\n",
            "Epoch 8/10\n",
            "1563/1563 [==============================] - 38s 24ms/step - loss: 1.4161 - accuracy: 0.4937\n",
            "Epoch 9/10\n",
            "1563/1563 [==============================] - 38s 25ms/step - loss: 1.3893 - accuracy: 0.5028\n",
            "Epoch 10/10\n",
            "1563/1563 [==============================] - 38s 25ms/step - loss: 1.3750 - accuracy: 0.5077\n",
            "313/313 [==============================] - 2s 6ms/step - loss: 1.4495 - accuracy: 0.4832\n",
            "test_acc: 0.4832000136375427\n",
            "test_loss: 1.449468970298767\n"
          ]
        }
      ]
    },
    {
      "cell_type": "code",
      "source": [
        "from keras.utils import load_img\n",
        "import matplotlib.pyplot as plt\n",
        "img = load_img('meo1.jpg',target_size=(32,32))\n",
        "plt.imshow(img)\n"
      ],
      "metadata": {
        "colab": {
          "base_uri": "https://localhost:8080/",
          "height": 283
        },
        "id": "V05pbXoBIKBd",
        "outputId": "7792781b-7cfe-41ce-8ba3-76558c818365"
      },
      "execution_count": null,
      "outputs": [
        {
          "output_type": "execute_result",
          "data": {
            "text/plain": [
              "<matplotlib.image.AxesImage at 0x7f6d5d9e8190>"
            ]
          },
          "metadata": {},
          "execution_count": 55
        },
        {
          "output_type": "display_data",
          "data": {
            "text/plain": [
              "<Figure size 432x288 with 1 Axes>"
            ],
            "image/png": "[encoded data removed]"
          },
          "metadata": {
            "needs_background": "light"
          }
        }
      ]
    },
    {
      "cell_type": "code",
      "source": [
        "import numpy as np\n",
        "from keras.utils.image_utils import img_to_array\n",
        "img = img_to_array(img)\n",
        "img = img.reshape(1,32*32*3)\n",
        "img=img.astype('float32')\n",
        "img=img/255\n",
        "np.argmax(model.predict(img),axis=-1)"
      ],
      "metadata": {
        "colab": {
          "base_uri": "https://localhost:8080/"
        },
        "id": "jfim9VBtJRYF",
        "outputId": "32bf65cd-f8a8-474d-b40f-21aaf12efbd8"
      },
      "execution_count": null,
      "outputs": [
        {
          "output_type": "stream",
          "name": "stdout",
          "text": [
            "1/1 [==============================] - 0s 33ms/step\n"
          ]
        },
        {
          "output_type": "execute_result",
          "data": {
            "text/plain": [
              "array([3])"
            ]
          },
          "metadata": {},
          "execution_count": 56
        }
      ]
    },
    {
      "cell_type": "code",
      "source": [
        "model.save('model2.h5')"
      ],
      "metadata": {
        "id": "4yibdJ_Ol2EF"
      },
      "execution_count": null,
      "outputs": []
    }
  ]
}